{
 "cells": [
  {
   "cell_type": "markdown",
   "metadata": {},
   "source": [
    "# Protótipo Tarefa 3"
   ]
  },
  {
   "cell_type": "markdown",
   "metadata": {},
   "source": [
    "## Importando as dependências"
   ]
  },
  {
   "cell_type": "code",
   "execution_count": null,
   "metadata": {},
   "outputs": [],
   "source": [
    "import numpy as np\n",
    "from data_prep import features, targets, features_test, targets_test"
   ]
  },
  {
   "cell_type": "markdown",
   "metadata": {},
   "source": [
    "## Função Sigmoidal"
   ]
  },
  {
   "cell_type": "code",
   "execution_count": null,
   "metadata": {},
   "outputs": [],
   "source": [
    "def sigmoid(x):\n",
    "    return 1 / (1 + np.exp(-x))\n",
    "\n",
    "\n",
    "# TODO: Não fornecemos a função sigmoid_prime como fizemos em\n",
    "# a lição anterior para encorajá-lo a uma\n",
    "# solução eficiente. Se precisar de uma dica, verifique os comentários\n",
    "# em Solucao_Tarefa2."
   ]
  },
  {
   "cell_type": "markdown",
   "metadata": {},
   "source": [
    "## Use a mesma semente para tornar a depuração mais fácil"
   ]
  },
  {
   "cell_type": "code",
   "execution_count": null,
   "metadata": {},
   "outputs": [],
   "source": [
    "np.random.seed(42)"
   ]
  },
  {
   "cell_type": "markdown",
   "metadata": {},
   "source": [
    "## Dimensões do dataset"
   ]
  },
  {
   "cell_type": "code",
   "execution_count": null,
   "metadata": {},
   "outputs": [],
   "source": [
    "n_records, n_features = features.shape  \n",
    "last_loss = None"
   ]
  },
  {
   "cell_type": "markdown",
   "metadata": {},
   "source": [
    "## Inicialize os pesos"
   ]
  },
  {
   "cell_type": "code",
   "execution_count": null,
   "metadata": {},
   "outputs": [],
   "source": [
    "weights = np.random.normal(scale=1 / n_features**.5, size=n_features)"
   ]
  },
  {
   "cell_type": "markdown",
   "metadata": {},
   "source": [
    "## Hiperparâmetros da Rede Neural"
   ]
  },
  {
   "cell_type": "code",
   "execution_count": null,
   "metadata": {},
   "outputs": [],
   "source": [
    "epochs = 1000\n",
    "learnrate = 0.5"
   ]
  },
  {
   "cell_type": "markdown",
   "metadata": {},
   "source": [
    "## Treinamento"
   ]
  },
  {
   "cell_type": "code",
   "execution_count": null,
   "metadata": {},
   "outputs": [],
   "source": [
    "for e in range(epochs):\n",
    "    del_w = np.zeros(weights.shape)\n",
    "    for x, y in zip(features.values, targets):\n",
    "        \n",
    "        # Loop por todos os registros, x é a entrada, y é o alvo\n",
    "\n",
    "        # Ativação da unidade de saída\n",
    "        # Observe que multiplicamos as entradas e os pesos aqui\n",
    "        # em vez de armazenar h como uma variável separada\n",
    "        \n",
    "        output = sigmoid(x)\n",
    "\n",
    "        \n",
    "        # O erro, o alvo menos a saída da rede\n",
    "        error = bias - output\n",
    "\n",
    "\n",
    "        # O termo de erro\n",
    "        # Observe que calculamos f '(h) aqui em vez de definir um separado\n",
    "        # função sigmoid_prime. Isso só torna mais rápido porque nós\n",
    "        # pode reutilizar o resultado da função sigmóide armazenada em\n",
    "        # a variável de saída\n",
    "        \n",
    "        error_term = (error * (sigmoid(x) *(1-sigmoid(x))))\n",
    "\n",
    "        \n",
    "        # A etapa de descida do gradiente, o erro vezes o gradiente vezes as entradas\n",
    "        del_w += [learnrate * ErroTermo * inputs [0],learnrate * ErroTermo * inputs [1]]\n",
    "\n",
    "\n",
    "    # Atualize os pesos aqui. A taxa de aprendizagem vezes o\n",
    "    # mudança nos pesos, dividido pelo número de registros para calcular a média\n",
    "    \n",
    "    weights += del_w\n",
    "\n",
    "   # Imprimir o erro quadrático médio no conjunto de treinamento\n",
    "    if e % (epochs / 10) == 0:\n",
    "        out = sigmoid(np.dot(features, weights))\n",
    "        loss = np.mean((out - targets) ** 2)\n",
    "        if last_loss and last_loss < loss:\n",
    "            print(\"Train loss: \", loss, \"  WARNING - Loss Increasing\")\n",
    "        else:\n",
    "            print(\"Train loss: \", loss)\n",
    "        last_loss = loss"
   ]
  },
  {
   "cell_type": "markdown",
   "metadata": {},
   "source": [
    "## Calcule a precisão dos dados de teste"
   ]
  },
  {
   "cell_type": "code",
   "execution_count": null,
   "metadata": {},
   "outputs": [],
   "source": [
    "tes_out = sigmoid(np.dot(features_test, weights))\n",
    "predictions = tes_out > 0.5\n",
    "accuracy = np.mean(predictions == targets_test)\n",
    "print(\"Prediction accuracy: {:.3f}\".format(accuracy))"
   ]
  },
  {
   "cell_type": "code",
   "execution_count": null,
   "metadata": {},
   "outputs": [],
   "source": []
  }
 ],
 "metadata": {
  "kernelspec": {
   "display_name": "Python 3",
   "language": "python",
   "name": "python3"
  },
  "language_info": {
   "codemirror_mode": {
    "name": "ipython",
    "version": 3
   },
   "file_extension": ".py",
   "mimetype": "text/x-python",
   "name": "python",
   "nbconvert_exporter": "python",
   "pygments_lexer": "ipython3",
   "version": "3.8.3"
  }
 },
 "nbformat": 4,
 "nbformat_minor": 2
}
