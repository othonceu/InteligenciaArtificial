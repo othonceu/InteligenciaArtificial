{
 "cells": [
  {
   "cell_type": "markdown",
   "metadata": {},
   "source": [
    "# Protótipo Tarefa6"
   ]
  },
  {
   "cell_type": "markdown",
   "metadata": {},
   "source": [
    "## Importando as dependências"
   ]
  },
  {
   "cell_type": "code",
   "execution_count": 1,
   "metadata": {},
   "outputs": [],
   "source": [
    "import numpy as np\n",
    "from data_prep import features, targets, features_test, targets_test"
   ]
  },
  {
   "cell_type": "markdown",
   "metadata": {},
   "source": [
    "## Função Sigmoidal"
   ]
  },
  {
   "cell_type": "code",
   "execution_count": 2,
   "metadata": {},
   "outputs": [],
   "source": [
    "def sigmoid(x):\n",
    "    return 1 / (1 + np.exp(-x))"
   ]
  },
  {
   "cell_type": "markdown",
   "metadata": {},
   "source": [
    "## Use a mesma semente para tornar a depuração mais fácil"
   ]
  },
  {
   "cell_type": "code",
   "execution_count": 3,
   "metadata": {},
   "outputs": [],
   "source": [
    "np.random.seed(42)"
   ]
  },
  {
   "cell_type": "markdown",
   "metadata": {},
   "source": [
    "## Dimensões do dataset"
   ]
  },
  {
   "cell_type": "code",
   "execution_count": 4,
   "metadata": {},
   "outputs": [],
   "source": [
    "n_records, n_features = features.shape  \n",
    "last_loss = None"
   ]
  },
  {
   "cell_type": "markdown",
   "metadata": {},
   "source": [
    "## Hiperparâmetros da Rede Neural"
   ]
  },
  {
   "cell_type": "code",
   "execution_count": 12,
   "metadata": {},
   "outputs": [],
   "source": [
    "n_hidden = 2  # número de unidades escondidas\n",
    "epochs = 900\n",
    "learnrate = 0.005"
   ]
  },
  {
   "cell_type": "markdown",
   "metadata": {},
   "source": [
    "## Inicialização dos pesos"
   ]
  },
  {
   "cell_type": "code",
   "execution_count": 7,
   "metadata": {},
   "outputs": [],
   "source": [
    "n_records, n_features = features.shape\n",
    "last_loss = None\n",
    "\n",
    "weights_input_hidden = np.random.normal(scale = 1 / n_features**.05,size = (n_features, n_hidden))\n",
    "\n",
    "weights_hidden_output = np.random.normal(scale = 1 / n_features**.05,size = n_hidden)"
   ]
  },
  {
   "cell_type": "markdown",
   "metadata": {},
   "source": [
    "## Treinamento"
   ]
  },
  {
   "cell_type": "code",
   "execution_count": 8,
   "metadata": {},
   "outputs": [
    {
     "name": "stdout",
     "output_type": "stream",
     "text": [
      "Train loss:  0.2258606677924375\n",
      "Train loss:  0.22578766134845757\n",
      "Train loss:  0.22571551799236683\n",
      "Train loss:  0.2256442235347442\n",
      "Train loss:  0.22557376408228136\n",
      "Train loss:  0.22550412603125672\n",
      "Train loss:  0.22543529606119453\n",
      "Train loss:  0.225367261128657\n",
      "Train loss:  0.22530000846119516\n",
      "Train loss:  0.22523352555142645\n"
     ]
    }
   ],
   "source": [
    "for e in range(epochs):\n",
    "    del_w_input_hidden = np.zeros(weights_input_hidden.shape)\n",
    "    del_w_hidden_output = np.zeros(weights_hidden_output.shape)\n",
    "    for x, y in zip(features.values, targets):\n",
    "        ## Fase Forward ##\n",
    "        # Cálculo da saída\n",
    "        hidden_input = np.dot(x,weights_inputs_hidden)\n",
    "        hidden_output = sigmoid(hidden_input)\n",
    "\n",
    "        output = sigmoid(np.dot(hidden_output,weights_hidden_output))\n",
    "        \n",
    "        ## Fase backward ##\n",
    "        # Cálculo do erro da rede\n",
    "        error = y - output\n",
    "        \n",
    "        # Calcule o gradiente para a unidade de saída\n",
    "        output_error_term = error * output(1- output)\n",
    "\n",
    "        ## propagar erros para a camada oculta\n",
    "\n",
    "        # Calcule a contribuição da camada oculta para o erro\n",
    "        hidden_error = weights_hidden_output * output_error * hidden_output * (1 - hidden_output)\n",
    "\n",
    "        # Calcule o gradiente para a camada oculta\n",
    "        hidden_error_term = hidden_error\n",
    "\n",
    "        # Atualizar a mudança nos pesos\n",
    "        del_w_hidden_output += output_error * hidden_output \n",
    "        del_w_input_hidden += hidden_error * x[:,None]\n",
    "\n",
    "    # Atualizando os pesos\n",
    "    weights_input_hidden += (learnrate * del_w_input_hidden)/n_features\n",
    "    weights_hidden_output += (learnrate * del_w_hidden_output)/ n_features\n",
    "\n",
    "    #Imprimir o erro quadrático médio no conjunto de treinamento\n",
    "    if e % (epochs / 10) == 0:\n",
    "        hidden_output = sigmoid(np.dot(x,weights_input_hidden))\n",
    "        out = sigmoid(np.( hidden_output,weights_hidden_output))\n",
    "        loss = np.mean((out - targets) ** 2)\n",
    "\n",
    "        if last_loss and last_loss < loss:\n",
    "            print(\"Train loss: \", loss, \"  WARNING - Loss Increasing\")\n",
    "        else:\n",
    "            print(\"Train loss: \", loss)\n",
    "        last_loss = loss"
   ]
  },
  {
   "cell_type": "markdown",
   "metadata": {},
   "source": [
    "## Calcule a precisão dos dados de teste"
   ]
  },
  {
   "cell_type": "code",
   "execution_count": 9,
   "metadata": {},
   "outputs": [
    {
     "name": "stdout",
     "output_type": "stream",
     "text": [
      "Prediction accuracy: 0.750\n"
     ]
    }
   ],
   "source": [
    "hidden = sigmoid(np.dot(features_test, weights_input_hidden))\n",
    "out = sigmoid(np.dot(hidden, weights_hidden_output))\n",
    "predictions = out > 0.5\n",
    "accuracy = np.mean(predictions == targets_test)\n",
    "print(\"Prediction accuracy: {:.3f}\".format(accuracy))"
   ]
  },
  {
   "cell_type": "code",
   "execution_count": null,
   "metadata": {},
   "outputs": [],
   "source": []
  }
 ],
 "metadata": {
  "kernelspec": {
   "display_name": "Python 3",
   "language": "python",
   "name": "python3"
  },
  "language_info": {
   "codemirror_mode": {
    "name": "ipython",
    "version": 3
   },
   "file_extension": ".py",
   "mimetype": "text/x-python",
   "name": "python",
   "nbconvert_exporter": "python",
   "pygments_lexer": "ipython3",
   "version": "3.8.3"
  }
 },
 "nbformat": 4,
 "nbformat_minor": 2
}
