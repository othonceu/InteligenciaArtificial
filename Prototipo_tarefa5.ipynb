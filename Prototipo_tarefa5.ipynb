{
 "cells": [
  {
   "cell_type": "markdown",
   "metadata": {},
   "source": [
    "# Protótipo Tarefa 5"
   ]
  },
  {
   "cell_type": "markdown",
   "metadata": {},
   "source": [
    "## Importando as dependências"
   ]
  },
  {
   "cell_type": "code",
   "execution_count": 13,
   "metadata": {},
   "outputs": [],
   "source": [
    "import numpy as np"
   ]
  },
  {
   "cell_type": "markdown",
   "metadata": {},
   "source": [
    "## Função Sigmoidal"
   ]
  },
  {
   "cell_type": "code",
   "execution_count": 14,
   "metadata": {},
   "outputs": [],
   "source": [
    "def sigmoid(x):\n",
    "    return 1 / (1 + np.exp(-x))"
   ]
  },
  {
   "cell_type": "markdown",
   "metadata": {},
   "source": [
    "## Criando dados aleatórios de entrada, saída e pesos"
   ]
  },
  {
   "cell_type": "code",
   "execution_count": 15,
   "metadata": {},
   "outputs": [],
   "source": [
    "x = np.array([0.5, 0.1, -0.2])\n",
    "target = 0.6\n",
    "learnrate = 0.5\n",
    "\n",
    "weights_input_hidden = np.array([[0.5, -0.6],\n",
    "                                 [0.1, -0.2],\n",
    "                                 [0.1, 0.7]])\n",
    "\n",
    "weights_hidden_output = np.array([0.1, -0.3])\n"
   ]
  },
  {
   "cell_type": "markdown",
   "metadata": {},
   "source": [
    "## Fase *forward*"
   ]
  },
  {
   "cell_type": "code",
   "execution_count": 21,
   "metadata": {},
   "outputs": [],
   "source": [
    "## Forward pass\n",
    "hidden_layer_input = np.dot(x,weights_input_hidden)\n",
    "hidden_layer_output = sigmoid(hidden_layer_input)\n",
    "\n",
    "output_layer_in = np.dot(hidden_layer_output,weights_hidden_output)\n",
    "output = (output_layer_in)"
   ]
  },
  {
   "cell_type": "markdown",
   "metadata": {},
   "source": [
    "## Fase *backward*"
   ]
  },
  {
   "cell_type": "code",
   "execution_count": 26,
   "metadata": {},
   "outputs": [
    {
     "name": "stdout",
     "output_type": "stream",
     "text": [
      "Mudança nos pesos da camada oculta para a camada de saída:\n",
      "[-0.01177522 -0.00814138]\n",
      "Mudança nos pesos da camada de entrada para a camada oculta:\n",
      "[[-2.59223490e-04  7.48617649e-04]\n",
      " [-5.18446980e-05  1.49723530e-04]\n",
      " [ 1.03689396e-04 -2.99447060e-04]]\n"
     ]
    }
   ],
   "source": [
    "## Backwards pass\n",
    "## Determinação do erro\n",
    "error = target - output\n",
    "\n",
    "# Calcular o gradiente de erro para a camada de saída\n",
    "output_error_term = error * output * (1 - output)\n",
    "\n",
    "# Calcular o gradiente de erro para a camada oculta\n",
    "hidden_error_term = output_error_term * weights_hidden_output * hidden_layer_output * (1 - hidden_layer_output)\n",
    "\n",
    "# Calcule a mudança nos pesos da camada oculta para a camada de saída\n",
    "delta_w_h_o = learnrate * output_error_term * hidden_layer_output\n",
    "\n",
    "# Calcule a mudança nos pesos da camada de entrada para a camada oculta\n",
    "delta_w_i_h = learnrate * hidden_error_term * x[:,None]\n",
    "\n",
    "print('Mudança nos pesos da camada oculta para a camada de saída:')\n",
    "print(delta_w_h_o)\n",
    "print('Mudança nos pesos da camada de entrada para a camada oculta:')\n",
    "print(delta_w_i_h)"
   ]
  }
 ],
 "metadata": {
  "kernelspec": {
   "display_name": "Python 3",
   "language": "python",
   "name": "python3"
  },
  "language_info": {
   "codemirror_mode": {
    "name": "ipython",
    "version": 3
   },
   "file_extension": ".py",
   "mimetype": "text/x-python",
   "name": "python",
   "nbconvert_exporter": "python",
   "pygments_lexer": "ipython3",
   "version": "3.8.3"
  }
 },
 "nbformat": 4,
 "nbformat_minor": 2
}
